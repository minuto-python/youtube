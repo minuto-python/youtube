{
 "cells": [
  {
   "cell_type": "code",
   "execution_count": 2,
   "id": "6d78a8ed",
   "metadata": {},
   "outputs": [],
   "source": [
    "import matplotlib.pyplot as plt\n",
    "import pandas as pd"
   ]
  },
  {
   "cell_type": "code",
   "execution_count": 3,
   "id": "9b29515b",
   "metadata": {},
   "outputs": [],
   "source": [
    "x = [1, 2, 3, 4, 4, 3, 2, 3, 4, 5, 6, 6, 5, 4, 5, 6, 4, 5, 7, 7, 8, 8, 9, 8, 7, 9]\n",
    "y = [2, 3, 4, 5, 4, 4, 5, 3, 3, 5, 6, 6, 4, 7, 8, 8, 6, 7, 7, 8, 9, 7, 9, 8, 9, 9]\n",
    "labels = ['a', 'a', 'a', 'a', 'a', 'a', 'a', 'a', 'b', 'b', 'b', 'b', 'b', 'b', 'b', 'b', 'b', 'b', 'c', 'c', 'c', 'c', 'c', 'c', 'c', 'c']"
   ]
  },
  {
   "cell_type": "code",
   "execution_count": 5,
   "id": "01e3476f",
   "metadata": {},
   "outputs": [
    {
     "data": {
      "text/html": [
       "<div>\n",
       "<style scoped>\n",
       "    .dataframe tbody tr th:only-of-type {\n",
       "        vertical-align: middle;\n",
       "    }\n",
       "\n",
       "    .dataframe tbody tr th {\n",
       "        vertical-align: top;\n",
       "    }\n",
       "\n",
       "    .dataframe thead th {\n",
       "        text-align: right;\n",
       "    }\n",
       "</style>\n",
       "<table border=\"1\" class=\"dataframe\">\n",
       "  <thead>\n",
       "    <tr style=\"text-align: right;\">\n",
       "      <th></th>\n",
       "      <th>x</th>\n",
       "      <th>y</th>\n",
       "      <th>labels</th>\n",
       "    </tr>\n",
       "  </thead>\n",
       "  <tbody>\n",
       "    <tr>\n",
       "      <th>0</th>\n",
       "      <td>1</td>\n",
       "      <td>2</td>\n",
       "      <td>a</td>\n",
       "    </tr>\n",
       "    <tr>\n",
       "      <th>1</th>\n",
       "      <td>2</td>\n",
       "      <td>3</td>\n",
       "      <td>a</td>\n",
       "    </tr>\n",
       "    <tr>\n",
       "      <th>2</th>\n",
       "      <td>3</td>\n",
       "      <td>4</td>\n",
       "      <td>a</td>\n",
       "    </tr>\n",
       "  </tbody>\n",
       "</table>\n",
       "</div>"
      ],
      "text/plain": [
       "   x  y labels\n",
       "0  1  2      a\n",
       "1  2  3      a\n",
       "2  3  4      a"
      ]
     },
     "execution_count": 5,
     "metadata": {},
     "output_type": "execute_result"
    }
   ],
   "source": [
    "df = pd.DataFrame({'x': x, 'y': y, 'labels': labels})\n",
    "df.head(3)"
   ]
  },
  {
   "cell_type": "code",
   "execution_count": 17,
   "id": "f49d13df",
   "metadata": {},
   "outputs": [
    {
     "data": {
      "image/png": "[encoded data removed]",
      "text/plain": [
       "<Figure size 432x288 with 1 Axes>"
      ]
     },
     "metadata": {
      "needs_background": "light"
     },
     "output_type": "display_data"
    }
   ],
   "source": [
    "fig, ax = plt.subplots(figsize=(6, 4))\n",
    "\n",
    "markers = {\n",
    "    'a': 'o',\n",
    "    'b': 'o',\n",
    "    'c': 'o'\n",
    "}\n",
    "\n",
    "colors = {\n",
    "    'a': 'tab:green',\n",
    "    'b': 'tab:blue',\n",
    "    'c': 'tab:orange'\n",
    "}\n",
    "\n",
    "for label, group in df.groupby('labels'):\n",
    "    color = colors[label]\n",
    "    marker = markers[label]\n",
    "    ax.scatter(group.x, group.y, marker=marker, c=color, label=label, s=70)\n",
    "\n",
    "\n",
    "ax.set_title('Scatter Plot', fontsize=16)\n",
    "ax.set_xlabel('eixo X', fontsize=14)\n",
    "ax.set_ylabel('eixo Y', fontsize=14)\n",
    "\n",
    "ax.set_axisbelow(True)\n",
    "ax.grid(linestyle='--')\n",
    "ax.legend()\n",
    "\n",
    "plt.show()"
   ]
  },
  {
   "cell_type": "code",
   "execution_count": null,
   "id": "09645869",
   "metadata": {},
   "outputs": [],
   "source": []
  }
 ],
 "metadata": {
  "kernelspec": {
   "display_name": "Python 3 (ipykernel)",
   "language": "python",
   "name": "python3"
  },
  "language_info": {
   "codemirror_mode": {
    "name": "ipython",
    "version": 3
   },
   "file_extension": ".py",
   "mimetype": "text/x-python",
   "name": "python",
   "nbconvert_exporter": "python",
   "pygments_lexer": "ipython3",
   "version": "3.8.10"
  }
 },
 "nbformat": 4,
 "nbformat_minor": 5
}
